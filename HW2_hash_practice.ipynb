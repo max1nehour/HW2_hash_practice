{
  "nbformat": 4,
  "nbformat_minor": 0,
  "metadata": {
    "colab": {
      "provenance": [],
      "authorship_tag": "ABX9TyNgpIX18LT4sWhNsxV1PUqN",
      "include_colab_link": true
    },
    "kernelspec": {
      "name": "python3",
      "display_name": "Python 3"
    },
    "language_info": {
      "name": "python"
    }
  },
  "cells": [
    {
      "cell_type": "markdown",
      "metadata": {
        "id": "view-in-github",
        "colab_type": "text"
      },
      "source": [
        "<a href=\"https://colab.research.google.com/github/max1nehour/HW2_hash_practice/blob/main/HW2_hash_practice.ipynb\" target=\"_parent\"><img src=\"https://colab.research.google.com/assets/colab-badge.svg\" alt=\"Open In Colab\"/></a>"
      ]
    },
    {
      "cell_type": "code",
      "source": [
        "#2023.03.02 max1n\n",
        "#Hash Practice\n",
        "\n",
        "import json\n",
        "\n",
        "#讀取txt檔\n",
        "with open('/content/hw2_data.txt', 'r') as data:\n",
        "\n",
        "\n",
        "    #初始化一個空字典\n",
        "    string_counts = {}\n",
        "\n",
        "    #一行一行讀取\n",
        "    for line in data:\n",
        "        #分割每一行變成單個文字\n",
        "        words = line.strip().split()\n",
        "\n",
        "        #一個單字一個單字讀取\n",
        "        for string in words:\n",
        "            \n",
        "            if string not in string_counts:  #如果字串不存在，將其加入字典中，令值=1\n",
        "                string_counts[string] = 1 \n",
        "       \n",
        "            else:\n",
        "                string_counts[string] += 1 #如果字串已存在，將其在字典中的值加1\n",
        "\n",
        "#列印有多少字典的key和其對應value             \n",
        "print(\"每一個單字出現次數：\",json.dumps(string_counts, sort_keys=False, indent=4),\"\\n\")\n",
        "\n",
        "#列印有多少元素在字典中\n",
        "print(\"有幾種單字出現：\",len(string_counts),\"種\")\n",
        "\n",
        "\n",
        "#關閉檔案\n",
        "data.close()"
      ],
      "metadata": {
        "colab": {
          "base_uri": "https://localhost:8080/"
        },
        "id": "OOf6O-jEpVc7",
        "outputId": "bfba38f4-aaec-4778-e347-ad46df92edc8"
      },
      "execution_count": 41,
      "outputs": [
        {
          "output_type": "stream",
          "name": "stdout",
          "text": [
            "每一個單字出現次數： {\n",
            "    \"Cheese\": 234,\n",
            "    \"Pizza\": 83,\n",
            "    \"Coke\": 145,\n",
            "    \"Steak\": 46,\n",
            "    \"Burger\": 196,\n",
            "    \"Fries\": 76,\n",
            "    \"Rib\": 33,\n",
            "    \"Taco\": 57,\n",
            "    \"Pho\": 19,\n",
            "    \"Potato\": 3\n",
            "} \n",
            "\n",
            "有幾種單字出現： 10\n"
          ]
        }
      ]
    },
    {
      "cell_type": "code",
      "execution_count": null,
      "metadata": {
        "id": "pxdimEvlgdGX"
      },
      "outputs": [],
      "source": [
        "\n"
      ]
    }
  ]
}